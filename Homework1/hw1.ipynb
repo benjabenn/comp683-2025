{
 "cells": [
  {
   "cell_type": "markdown",
   "metadata": {},
   "source": [
    "# COMP 683 HW 1"
   ]
  },
  {
   "cell_type": "markdown",
   "metadata": {},
   "source": [
    "## Problem 1\n",
    "**Nice Properties of the Graph Laplacian**\n",
    "\n",
    "Here we will walk through computing the Graph Laplacian and exploring nice properties about it that relate to graph structure.\n",
    "\n",
    "Consider the following graph, $\\mathcal{G}$ of 6 nodes. This graph has two components. We will see how what happens with our graph Laplacian in this situation. \n",
    "\n",
    "\n",
    "<img src=\"./tikz.png\">"
   ]
  },
  {
   "cell_type": "markdown",
   "metadata": {},
   "source": [
    "1. Create the adjacency matrix, ${\\bf A}$, corresponding to $\\mathcal{G}$. (Note that node $i$ should correspond to the $i$ th row of ${\\bf A}$. "
   ]
  },
  {
   "cell_type": "code",
   "execution_count": null,
   "metadata": {},
   "outputs": [],
   "source": []
  },
  {
   "cell_type": "markdown",
   "metadata": {},
   "source": [
    "2. We will go through some steps to write the code to compute the Graph Laplacian. The first matrix we need to define is the diagonal degree matrix, ${\\bf D}$. Create the degree matrix (${\\bf D}$) for $\\mathcal{G}$. "
   ]
  },
  {
   "cell_type": "code",
   "execution_count": null,
   "metadata": {},
   "outputs": [],
   "source": []
  },
  {
   "cell_type": "markdown",
   "metadata": {},
   "source": [
    "3. Define the Laplacian matrix, ${\\bf L}$ as ${\\bf L}={\\bf D}-{\\bf A}$."
   ]
  },
  {
   "cell_type": "code",
   "execution_count": null,
   "metadata": {},
   "outputs": [],
   "source": []
  },
  {
   "cell_type": "markdown",
   "metadata": {},
   "source": [
    "4. An eigenvector (${\\bf v} \\in \\mathbb{R}^{6}$) and its corresponding eigenvalue ($\\lambda$) of the graph Laplacian, ${\\bf L}$, must satisfy ${\\bf L}{\\bf v} = \\lambda {\\bf v}$. As this graph has two components, we will be able to find two unique eigenvectors (${\\bf v}_{1}$ and ${\\bf v}_{2}$) that correspond to the zero eigenvalue, such that ${\\bf L} \\times {\\bf v}_{1} = 0 \\times {\\bf v}_{1} $ and ${\\bf L} \\times {\\bf v}_{2} = 0 \\times {\\bf v}_{2} $. Consider ${\\bf v}_{1} = [1, 1, 1, 0, 0, 0]^{T}$. You will notice that there are 1s in the first three entries, corresponding to the nodes that are together in a component. Check that ${\\bf v}_{1}$ does indeed correspond to eigenvalue 0 and satisfies ${\\bf L} \\times {\\bf v}_{1} = 0 \\times {\\bf v}_{1} $.\n",
    "If you are using numpy, you can check by computing: \n",
    "\n",
    "```python\n",
    "L @ np.matrix([[1],[1],[1],[0],[0],[0]])\n",
    "```\n",
    "\n",
    "Discuss your findings."
   ]
  },
  {
   "cell_type": "code",
   "execution_count": null,
   "metadata": {},
   "outputs": [],
   "source": []
  },
  {
   "cell_type": "markdown",
   "metadata": {},
   "source": []
  },
  {
   "cell_type": "markdown",
   "metadata": {},
   "source": [
    "5. Given this pattern you just observed with ${\\bf v}_{1}$, find ${\\bf v}_{2}$. Show that your ${\\bf v}_{2}$ satisfies ${\\bf L} \\times {\\bf v}_{2} = 0 \\times {\\bf v}_{2} $. \n",
    "\n",
    "You can fill in the following with your entries of ${\\bf v}_{2}$. \n",
    "\n",
    "```python\n",
    "L @ np.matrix([[ ],[ ],[ ],[ ],[ ],[ ]])\n",
    "```"
   ]
  },
  {
   "cell_type": "code",
   "execution_count": null,
   "metadata": {},
   "outputs": [],
   "source": []
  },
  {
   "cell_type": "markdown",
   "metadata": {},
   "source": []
  },
  {
   "cell_type": "markdown",
   "metadata": {},
   "source": [
    "# Problem 2\n",
    "**Practice with Single Cell Data**\n",
    "\n",
    "We will consider data from a CyTOF experiment obtained from http://flowrepository.org/id/FR-FCM-ZZPH. Here, we are considering the expression of 13 different protein markers across a set of cells. It has already been pre-processed for you. From the entire dataset, 5,000 cells were sampled for further analysis. You can use the following accompanying data as follows.\n",
    "- [Levine_matrix.csv](Levine_matrix.csv) is the cell $\\times$ marker matrix. Note that the last column is labels for the cells. Let's call this matrix, ${\\bf X}$. **You should not use the last column (named label) for any kind of clustering.** Some cells are not labeled (hence are called NaN).\n",
    "- [population_names_Levine_13dim.txt](population_names_Levine_13dim.txt) maps the cell labels from the last column of ${\\bf X}$ (number labels) to biologically-interpretable cell-type names. \n",
    "- [cell_graph.edgelist](cell_graph.edgelist) is an edgelist for a between-cell graph. We will call this, ${\\bf G}$. Note that the nodes in ${\\bf G}$ correspond to the rows in ${\\bf X}$. So, node $i$ maps to row $i$ of ${\\bf X}$, etc. Please make sure you interpret this as an undirected graph, where the adjacency matrix is symmetric."
   ]
  },
  {
   "cell_type": "markdown",
   "metadata": {},
   "source": [
    "1. **Clustering on cell $\\times$ marker data** (5 points): Use a clustering algorithm of your choice to generate a cell-to-cluster partition for the cells, using the matrix, ${\\bf X}$. Use normalized mutual information (NMI) to compute overlap between the true and predicted cell labels. **Note that because not all cells are labeled, you can compute this only based on the labeled cells.** Feel free to use an available implementation, such as, https://scikit-learn.org/stable/modules/generated/sklearn.metrics.normalized_mutual_info_score.html."
   ]
  },
  {
   "cell_type": "code",
   "execution_count": null,
   "metadata": {},
   "outputs": [],
   "source": []
  },
  {
   "cell_type": "markdown",
   "metadata": {},
   "source": [
    "2. **Graph Partitioning** (5 points): Use a graph clustering algorithm to partition ${\\bf G}$ into clusters. Similar to part 1 (1) compute NMI between the labels obtained in graph partitioning and the true cell labels."
   ]
  },
  {
   "cell_type": "code",
   "execution_count": null,
   "metadata": {},
   "outputs": [],
   "source": []
  },
  {
   "cell_type": "markdown",
   "metadata": {},
   "source": [
    "3. Comment on any observations you observe between the quality of the partitions obtained clustering on ${\\bf X}$ in comparison to partitioning ${\\bf G}$. Which approach do you think works better, using the original data, or the graph?"
   ]
  },
  {
   "cell_type": "markdown",
   "metadata": {},
   "source": []
  },
  {
   "cell_type": "markdown",
   "metadata": {},
   "source": [
    "4. **Rare Cell-types** (5 points) [Plasmacytoid_DC_cells](Plasmacytoid_DC_cells), or pDCs (label 21) are a popular rare cell type, meaning many clustering algorithms will not be able to reliably find them. Report the number of distinct clusters where you found pDCs in both the clustering of ${\\bf X}$ and in the partitioning of ${\\bf G}$."
   ]
  },
  {
   "cell_type": "markdown",
   "metadata": {},
   "source": []
  },
  {
   "cell_type": "markdown",
   "metadata": {},
   "source": [
    "5. **Cell Classification** (5 points) Select cells from ${\\bf X}$ with the following labels, $\\{11, 12, 17, 18\\}$ and $\\{1,2,3\\}$. In general, cells with labels $\\{11, 12, 17, 18\\}$ are T-cells and cells with labels $\\{1,2,3\\}$ are monocytes. Convert this to a binary classification problem by labeling T-cells with 0 and monocytes with 1. Use your favorite classifier to predict the labels of these cells. Use an ROC curve to visualize the performance. Please be sure to use an appropriate training/testing or cross validation procedure.  If the performance was not good, explain what could have gone wrong. If your performance is very good, can you identify features from ${\\bf X}$ that were helpful in predicting labels?"
   ]
  },
  {
   "cell_type": "code",
   "execution_count": null,
   "metadata": {},
   "outputs": [],
   "source": []
  },
  {
   "cell_type": "markdown",
   "metadata": {},
   "source": []
  },
  {
   "cell_type": "markdown",
   "metadata": {},
   "source": [
    "## Problem 3\n",
    "**node2vec**\n",
    "\n",
    "We will use the implementation of node2vec available in github, https://github.com/eliorc/node2vec."
   ]
  },
  {
   "cell_type": "markdown",
   "metadata": {},
   "source": [
    "1. (**Clustering on Node2Vec Features** (5 points)) First, use default parameters and follow the instructions in the README on the graph in [cell_graph.edgelist](cell_graph.edgelist). This will create a 128-dimensional vector for each node. Cluster the nodes based on these vectors and compare to the ground truth labels in the last column of [Levine_matrix.csv](Levine_matrix.csv) using NMI. Compare your results to Problem 4, question 3. Does an embedding of the graph offer any apparent advantages in classifying cells? (hint: make sure the indices of the embedding correspond to the original nodes indices)"
   ]
  },
  {
   "cell_type": "code",
   "execution_count": null,
   "metadata": {},
   "outputs": [],
   "source": []
  },
  {
   "cell_type": "markdown",
   "metadata": {},
   "source": []
  },
  {
   "cell_type": "markdown",
   "metadata": {},
   "source": [
    "2. (**Parameters, part 1** (5 points)) Try a few different values for the number of dimensions [--dimensions](--dimensions), such that some of them are less than 128, and some of them are more than 128. Cluster cells again with the embeddings obtained in different dimensions. Again, you can compute the NMI between the cluster assignments and the ground truth labels. Comment on some observations, and show a plot of NMI plotted against the number of dimensions used."
   ]
  },
  {
   "cell_type": "code",
   "execution_count": null,
   "metadata": {},
   "outputs": [],
   "source": []
  },
  {
   "cell_type": "markdown",
   "metadata": {},
   "source": []
  },
  {
   "cell_type": "markdown",
   "metadata": {},
   "source": [
    "3. (**Parameters, part 2** (5 points)) Recall that the parameters $p$ and $q$ control the 'breadth' vs 'depth of the walk'. Choose one of these parameters to vary, and repeat the previous question using the default 128 dimensions, but varying values for either $p$ or $q$. Comment on some observations, and show a plot of NMI against $p$ or $q$ (whichever one you chose)."
   ]
  },
  {
   "cell_type": "code",
   "execution_count": null,
   "metadata": {},
   "outputs": [],
   "source": []
  },
  {
   "cell_type": "markdown",
   "metadata": {},
   "source": []
  }
 ],
 "metadata": {
  "kernelspec": {
   "display_name": "Python 3",
   "language": "python",
   "name": "python3"
  },
  "language_info": {
   "codemirror_mode": {
    "name": "ipython",
    "version": 3
   },
   "file_extension": ".py",
   "mimetype": "text/x-python",
   "name": "python",
   "nbconvert_exporter": "python",
   "pygments_lexer": "ipython3",
   "version": "3.11.6"
  }
 },
 "nbformat": 4,
 "nbformat_minor": 2
}
